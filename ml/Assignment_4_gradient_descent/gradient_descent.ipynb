{
 "cells": [
  {
   "cell_type": "markdown",
   "id": "bd45615b",
   "metadata": {},
   "source": [
    "\n",
    "\n",
    "Implement Gradient Descent Algorithm to find the local minima of a function.For example, find the local minima of the function y=(x+3)² starting from the point x=2.\n"
   ]
  },
  {
   "cell_type": "code",
   "execution_count": 2,
   "id": "c70ce3bf",
   "metadata": {},
   "outputs": [],
   "source": [
    "# Initializing Parameters\n",
    "\n",
    "cur_x = 2\n",
    "\n",
    "rate = 0.01\n",
    "\n",
    "precision= 0.000001\n",
    "\n",
    "previous_step_size = 1\n",
    "\n",
    "max_iters =1000\n",
    "\n",
    "iters = 0\n",
    "\n",
    "df = lambda x : 2 * ( x + 3 )    #gradient of our function i.e (x + 3)²\n",
    "\n"
   ]
  },
  {
   "cell_type": "code",
   "execution_count": 4,
   "id": "45414178",
   "metadata": {},
   "outputs": [
    {
     "name": "stdout",
     "output_type": "stream",
     "text": [
      "Local Minima Occurs at :  -2.999951128099859\n"
     ]
    }
   ],
   "source": [
    "#Run a loop to perform gradient descent\n",
    "\n",
    "while previous_step_size > precision and iters < max_iters :\n",
    "    prev_x = cur_x\n",
    "    \n",
    "    cur_x = cur_x -(rate * df(prev_x))\n",
    "    \n",
    "    previous_step_size = abs (prev_x - cur_x)\n",
    "    iters += 1\n",
    "    \n",
    "print(\"Local Minima Occurs at : \", cur_x)"
   ]
  },
  {
   "cell_type": "code",
   "execution_count": null,
   "id": "f3f27b52",
   "metadata": {},
   "outputs": [],
   "source": []
  }
 ],
 "metadata": {
  "kernelspec": {
   "display_name": "Python 3 (ipykernel)",
   "language": "python",
   "name": "python3"
  },
  "language_info": {
   "codemirror_mode": {
    "name": "ipython",
    "version": 3
   },
   "file_extension": ".py",
   "mimetype": "text/x-python",
   "name": "python",
   "nbconvert_exporter": "python",
   "pygments_lexer": "ipython3",
   "version": "3.9.13"
  }
 },
 "nbformat": 4,
 "nbformat_minor": 5
}
